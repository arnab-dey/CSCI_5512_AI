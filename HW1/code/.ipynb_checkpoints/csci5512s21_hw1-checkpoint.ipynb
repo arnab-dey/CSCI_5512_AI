{
 "cells": [
  {
   "cell_type": "markdown",
   "metadata": {},
   "source": [
    "# CSCi 5512 : Artificial Intelligence II - Assignment 1\n",
    "<bold><font color='red'> Due Date: Feb 5, 2021 </font></bold>\n",
    "\n",
    "## Instructions\n",
    "1. It is an individual submission assignment. You are encouraged to talk to others but it must be your own work.\n",
    "2. Show your work. Submissions without explanation or steps to arrive at the answer will NOT receive full credit.\n",
    "3. Submit the notebook after successfuly running the code. We should be able to see your results. You can expect that python 3, numpy, pandas are available. No other packages are allowed.\n",
    "\n",
    "## Topics in this assignment\n",
    "* Probablity, Uncertainty\n",
    "(Refer the lecture video links in the course schedule)"
   ]
  },
  {
   "cell_type": "markdown",
   "metadata": {},
   "source": [
    "## Written Problems"
   ]
  },
  {
   "cell_type": "markdown",
   "metadata": {
    "deletable": false
   },
   "source": [
    "### Problem 1 (Basic Probability) (10 Points)\n",
    "\n",
    "Consider the domain of rolling 5 different colored 12 sided dice. a. How many atomic events are there in the joint distribution (i.e. how many 5-dice combinations are there)? b. What is the probability of each atomic event? c. What is the probability of rolling a “full house” (3 of 1 number 2 of another)? What is the probability of four of a kind?"
   ]
  },
  {
   "cell_type": "markdown",
   "metadata": {},
   "source": [
    "\n",
    "a. As each of the $5$ different colored dice can have $12$ different numbers, the total number of atomic events is $12^5$.\n",
    "b. The probability of each atomic event is $\\frac{1}{12^5}$.\n",
    "c. We can choose any one number from $12$ different numbers. Then, for that number, we can choose $3$ different colors out of $5$. After, choosing the first number, we will be left with $11$ numbers from which we have to choose one. Then for this number, we can choose $2$ out of $5$ different colors. Therefore, the total number of events are:\n",
    "\\begin{align*}\n",
    "\t\\text{Total number of events } = {12 \\choose 1} {5 \\choose 3} {11 \\choose 1} {5 \\choose 2} = 13200.\n",
    "\\end{align*}\n",
    "Therefore, the probability of rolling a full house is $\\frac{13200}{12^5} = 0.053$.\n"
   ]
  },
  {
   "cell_type": "markdown",
   "metadata": {},
   "source": [
    "### Problem 2 (Bayes) (20 Points)\n",
    "\n",
    "After your yearly checkup, the doctor has good news and bad news. The bad news is that you tested positive for a serious disease and that the test is very accurate: the probability of testing positive when you do have the disease is 0.998, and the probability of testing negative when you don’t have the disease is 0.965. The good news is that this is a rare disease, striking only one in ten thousand people in your demographic."
   ]
  },
  {
   "cell_type": "markdown",
   "metadata": {},
   "source": [
    "a. Why is the rarity a cause for celebration? Briefly explain."
   ]
  },
  {
   "cell_type": "markdown",
   "metadata": {},
   "source": [
    "[Your Answer here]"
   ]
  },
  {
   "cell_type": "markdown",
   "metadata": {},
   "source": [
    "b. What are the chances you have the disease?"
   ]
  },
  {
   "cell_type": "markdown",
   "metadata": {},
   "source": [
    "[Your Answer here]"
   ]
  },
  {
   "cell_type": "markdown",
   "metadata": {},
   "source": [
    "c. What if you discover you have a genetic anomaly that changes your demographic to the disease striking one in ten – what are the chances you are diseased? Assume 10,000,000 people get tested, fill out the following table with the expected number of people to fall into each category.\n",
    "\n",
    "|              | Test positive | Test negative | Total      |\n",
    "| :---:        | :---:         | :---:         | :---:      |\n",
    "| Have disease |               |               |            |\n",
    "| Disease free |               |               |            |\n",
    "| Total        |               |               | 10,000,000 |"
   ]
  },
  {
   "cell_type": "markdown",
   "metadata": {},
   "source": [
    "[Your Answer here]"
   ]
  },
  {
   "cell_type": "markdown",
   "metadata": {},
   "source": [
    "### Problem 3 (25 Points)\n",
    "\n",
    "Three prisoners A, B and C are locked in their cells. It is common knowledge that one of them will be executed the next day and the others pardoned. Only the governor knows which one of them will be executed. Prisoner A asks the guard a favor: “Please ask the governor who will be executed and then take a message to one of my friends, B or C to let them know he will be pardoned in the morning.” The guard agrees."
   ]
  },
  {
   "cell_type": "markdown",
   "metadata": {},
   "source": [
    "a. The guard comes back later and tells that he gave the pardon message to B – What are A’s chances of being executed, given this message (note: use Math to answer, not incoherent verbiage)."
   ]
  },
  {
   "cell_type": "markdown",
   "metadata": {},
   "source": [
    "[Your Answer here]"
   ]
  },
  {
   "cell_type": "markdown",
   "metadata": {},
   "source": [
    "b. If we also know that the guard hates C, and will not give C the pardon message unless it is absolutely necessary – What are A’s chances of being executed given a pardon message to B? What are A’s chances of being executed if the pardon message were given to C?"
   ]
  },
  {
   "cell_type": "markdown",
   "metadata": {},
   "source": [
    "[Your Answer here]"
   ]
  },
  {
   "cell_type": "markdown",
   "metadata": {},
   "source": [
    "### Problem 4 (25 Points)\n",
    "\n",
    "Suppose you have some kings. The kings are either tyrannical or benevolent in their behavior. Let B represent a random variable that represents the events { tyrannical, benevolent } . They also occasionally deposed by a revolution. Let D represent the Boolean random variable that deposed is true or false. Here's the joint count of observed events, out of 100 events:\n",
    "\n",
    "|                     | B=Tyrannical | B=Benevolent  |\n",
    "| :---:               | :---:        | :---:         |\n",
    "| Deposed D=True      |     22       |     22        |\n",
    "| Not Deposed D=False |     28       |     28        |\n",
    "\n",
    "So, as we can see, a king’s behavior doesn't have any influence about how long he reigns. But suppose we divide the kings up into charismatic and un charismatic as follows:\n",
    "\n",
    "#### Charismatic/Uncharishmatic\n",
    "|                     | Tyrannical   |   Benevolent  |\n",
    "| :---:               | :---:        | :---:         |\n",
    "| Deposed             |     16/6     |     2/20      |\n",
    "| Not Deposed         |     24/4     |     8/20      |\n"
   ]
  },
  {
   "cell_type": "markdown",
   "metadata": {},
   "source": [
    "a. Use the conditionalized product rule $ P(X,Y|E) = P(X|Y,E) P(Y|E) $ to compute the conditional probability of being deposed, given his behavior $ P(D|B,E)$ and charisma, where E is a Boolean random variable representing his charisma."
   ]
  },
  {
   "cell_type": "markdown",
   "metadata": {},
   "source": [
    "[Your Answer here]"
   ]
  },
  {
   "cell_type": "markdown",
   "metadata": {},
   "source": [
    "b. Here use the conditional form from a. to help the king make decisions (choice is benevolent or tyrannical). <br>\n",
    "i. If the king does not want to be deposed, should the king choose to be benevolent or tyrannical? Does it matter? <br>\n",
    "ii. Does his charisma affect the outcome of his choice? <br>\n",
    "iii. Does his charisma affect the outcome of his choice if the king does not know whether he is charismatic or not? \n",
    "\n",
    "Assume uncertainty about E means a prior probability of 0.5. Use Probability theory and the tables given to form your answer.\n",
    "\n",
    "(**Hint**: Condition on what you know, marginalize what you do not know)"
   ]
  },
  {
   "cell_type": "markdown",
   "metadata": {},
   "source": [
    "[Your Answer here]"
   ]
  },
  {
   "cell_type": "markdown",
   "metadata": {},
   "source": [
    "## Programming + Written Problems"
   ]
  },
  {
   "cell_type": "markdown",
   "metadata": {},
   "source": [
    "### Problem 5 (20 Points)\n",
    "a). You are given a biased coin whose probability of giving Heads is p. You do not know what p is. How will you use this biased coin to simulate generation of samples from the equivalent to an unbiased coin whose probability of giving heads is 1 in 2? 1 in 3? The goal is to find a simple algorithm which can convert a sequence of tosses from a biased coin with an unknown bias into a sampler which returns unbiased samples of events with probability 0.5. Briefly explain your logic for both the cases.\n",
    "\n",
    "b). Write a python program which generates at least 10 unbiased samples of prob 1/2 for each of the biased coin flip probabilities [0.01, 0.1, 0.4]. Similarly, generate 10 unbiased samples of prob 1/3 for each of the biased coin flip probabilities [0.01, 0.1, 0.4].   \n",
    "\n",
    "(Hint: You may have to toss the biased coin multiple times to generate the equivalent of an unbiased ‘toss’. The code is simple so if you are writing too much of code, probably you are doing it wrong!)"
   ]
  },
  {
   "cell_type": "markdown",
   "metadata": {},
   "source": [
    "[Your Answer here]"
   ]
  },
  {
   "cell_type": "code",
   "execution_count": 1,
   "metadata": {},
   "outputs": [],
   "source": [
    "# CODE and result"
   ]
  }
 ],
 "metadata": {
  "kernelspec": {
   "display_name": "Python 3",
   "language": "python",
   "name": "python3"
  },
  "language_info": {
   "codemirror_mode": {
    "name": "ipython",
    "version": 3
   },
   "file_extension": ".py",
   "mimetype": "text/x-python",
   "name": "python",
   "nbconvert_exporter": "python",
   "pygments_lexer": "ipython3",
   "version": "3.8.1"
  }
 },
 "nbformat": 4,
 "nbformat_minor": 2
}
