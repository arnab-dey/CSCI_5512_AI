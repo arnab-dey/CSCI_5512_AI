{
 "cells": [
  {
   "cell_type": "markdown",
   "metadata": {},
   "source": [
    "# CSCi 5512 : Artificial Intelligence II - Assignment 1\n",
    "<bold><font color='red'> Due Date: Feb 5, 2021 </font></bold>\n",
    "\n",
    "## Instructions\n",
    "1. It is an individual submission assignment. You are encouraged to talk to others but it must be your own work.\n",
    "2. Show your work. Submissions without explanation or steps to arrive at the answer will NOT receive full credit.\n",
    "3. Submit the notebook after successfuly running the code. We should be able to see your results. You can expect that python 3, numpy, pandas are available. No other packages are allowed.\n",
    "\n",
    "## Topics in this assignment\n",
    "* Probablity, Uncertainty\n",
    "(Refer the lecture video links in the course schedule)"
   ]
  },
  {
   "cell_type": "markdown",
   "metadata": {},
   "source": [
    "## Written Problems"
   ]
  },
  {
   "cell_type": "markdown",
   "metadata": {
    "deletable": false
   },
   "source": [
    "### Problem 1 (Basic Probability) (10 Points)\n",
    "\n",
    "Consider the domain of rolling 5 different colored 12 sided dice. a. How many atomic events are there in the joint distribution (i.e. how many 5-dice combinations are there)? b. What is the probability of each atomic event? c. What is the probability of rolling a “full house” (3 of 1 number 2 of another)? What is the probability of four of a kind?"
   ]
  },
  {
   "cell_type": "markdown",
   "metadata": {},
   "source": [
    "a. As each of the $5$ different colored dice can have $12$ different numbers, the total number of atomic events is $12^5$.\n",
    "<br>\n",
    "b. The probability of each atomic event is $\\frac{1}{12^5}$.\n",
    "<br>\n",
    "c. We can choose any one number from $12$ different numbers. Then, for that number, we can choose $3$ different colors out of $5$. After, choosing the first number, we will be left with $11$ numbers from which we have to choose one. Then for this number, we can choose $2$ out of $5$ different colors. Therefore, the total number of events are:\n",
    "\\begin{align*}\n",
    "\t\\text{Total number of events } = {12 \\choose 1} {5 \\choose 3} {11 \\choose 1} {5 \\choose 2} = 13200.\n",
    "\\end{align*}\n",
    "Therefore, the probability of rolling a full house is $\\frac{13200}{12^5} = 0.053$.\n",
    "<br>\n",
    "d. For four of a kind, we can choose any one number out of $12$, then for this number we can choose any $4$ colors out of $5$. The other number can be chosen from $11$ different numbers and for this number we will have choice of $1$ color out of $5$ different colors. Therefore, the total number of events are:\n",
    "\\begin{align*}\n",
    "\t\\text{Total number of events } = {12 \\choose 1}{5 \\choose 4}{11 \\choose 1}{5 \\choose 1} = 3300.\n",
    "\\end{align*}\n",
    "Therefore, the probability of four of a kind is $\\frac{3300}{12^5} = 0.013$."
   ]
  },
  {
   "cell_type": "markdown",
   "metadata": {},
   "source": [
    "### Problem 2 (Bayes) (20 Points)\n",
    "\n",
    "After your yearly checkup, the doctor has good news and bad news. The bad news is that you tested positive for a serious disease and that the test is very accurate: the probability of testing positive when you do have the disease is 0.998, and the probability of testing negative when you don’t have the disease is 0.965. The good news is that this is a rare disease, striking only one in ten thousand people in your demographic."
   ]
  },
  {
   "cell_type": "markdown",
   "metadata": {},
   "source": [
    "a. Why is the rarity a cause for celebration? Briefly explain."
   ]
  },
  {
   "cell_type": "markdown",
   "metadata": {},
   "source": [
    "In case of rare events, the probability of occurrence of that event is very low. Therefore, the chance of having the rare disease if very low. Thus it is denoted as a good news and thus a cause for celebration."
   ]
  },
  {
   "cell_type": "markdown",
   "metadata": {},
   "source": [
    "b. What are the chances you have the disease?"
   ]
  },
  {
   "cell_type": "markdown",
   "metadata": {},
   "source": [
    "Let $D$ denote the event of having the disease. As, it strikes only one in $10,000$ people, the chance of having the disease is $P(D) = \\frac{1}{10,000} = 0.0001$."
   ]
  },
  {
   "cell_type": "markdown",
   "metadata": {},
   "source": [
    "c. What if you discover you have a genetic anomaly that changes your demographic to the disease striking one in ten – what are the chances you are diseased? Assume 10,000,000 people get tested, fill out the following table with the expected number of people to fall into each category.\n",
    "\n",
    "|              | Test positive | Test negative | Total      |\n",
    "| :---:        | :---:         | :---:         | :---:      |\n",
    "| Have disease |               |               |            |\n",
    "| Disease free |               |               |            |\n",
    "| Total        |               |               | 10,000,000 |"
   ]
  },
  {
   "cell_type": "markdown",
   "metadata": {},
   "source": [
    "If the disease strikes only one in $10$, then the chance of having the disease is $\\frac{1}{10} = 0.1$.\n",
    "\n",
    "|              | Test positive | Test negative | Total      |\n",
    "| :---:        | :---:         | :---:         | :---:      |\n",
    "| Have disease | 998,000       | 2,000         | 10,000,00  |\n",
    "| Disease free | 315,000       | 8,685,000     | 9,000,000  |\n",
    "| Total        | 1,313,000     | 8,687,000     | 10,000,000 |"
   ]
  },
  {
   "cell_type": "markdown",
   "metadata": {},
   "source": [
    "### Problem 3 (25 Points)\n",
    "\n",
    "Three prisoners A, B and C are locked in their cells. It is common knowledge that one of them will be executed the next day and the others pardoned. Only the governor knows which one of them will be executed. Prisoner A asks the guard a favor: “Please ask the governor who will be executed and then take a message to one of my friends, B or C to let them know he will be pardoned in the morning.” The guard agrees."
   ]
  },
  {
   "cell_type": "markdown",
   "metadata": {},
   "source": [
    "a. The guard comes back later and tells that he gave the pardon message to B – What are A’s chances of being executed, given this message (note: use Math to answer, not incoherent verbiage)."
   ]
  },
  {
   "cell_type": "markdown",
   "metadata": {},
   "source": [
    "Let, the random variables $A, B, C$ denote the fate (executed, pardoned) of the prisoners, A, B and C respectively, taking value equal to $1$ if the corresponding prisoner is executed and $0$ otherwise. Also, let the random variables $A_m, B_m, C_m$ denote the receipt of pardon message from the warden where a value of $1$ indicates receipt of pardon message from the warden and $0$ otherwise.<br>\n",
    "We need to find $P(A=1|B_m=1)$<br>\n",
    "Now, we know that prisoner A does not receive pardon message from the warden. Therefore,\n",
    "\\begin{align*}\n",
    "    P(B_m=1|A=1) + P(C_m=1|A=1) = 1.\n",
    "\\end{align*}\n",
    "As, both the above conditional events are equally likely, $P(B_m=1|A=1) = P(C_m=1|A=1) = \\frac{1}{2}.$<br>\n",
    "Note, that if C is going to be executed, then warden must give the pardon message to B. Therefore, $P(B_m=1|C=1) = 1.$<br>\n",
    "Also, $P(A=1) = P(B=1) = P(C=1) = \\frac{1}{3}.$<br>\n",
    "Now,\n",
    "\\begin{align*}\n",
    "    P(A=1|B_m=1) &= \\frac{P(B_m=1|A=1)P(A=1)}{P(B_m=1|A=1)P(A=1) + P(B_m=1|B=1)P(B=1) + P(B_m=1|C=1)P(C=1)}\\\\\n",
    "    &= \\frac{\\frac{1}{2}\\cdot\\frac{1}{3}}{\\frac{1}{2}\\cdot\\frac{1}{3}+0\\cdot\\frac{1}{3}+1\\cdot\\frac{1}{3}}\\\\\n",
    "    &= \\frac{1}{3}.\n",
    "\\end{align*}"
   ]
  },
  {
   "cell_type": "markdown",
   "metadata": {},
   "source": [
    "b. If we also know that the guard hates C, and will not give C the pardon message unless it is absolutely necessary – What are A’s chances of being executed given a pardon message to B? What are A’s chances of being executed if the pardon message were given to C?"
   ]
  },
  {
   "cell_type": "markdown",
   "metadata": {},
   "source": [
    "Now, as the guard hates C, and will not give C the pardon message unless absolutely necessary (happens when B is going to be executed), $P(C_m=1|A=1) = 0$ and $P(B_m=1|A=1) = 1.$<br>\n",
    "Therefore,\n",
    "\\begin{align*}\n",
    "    P(A=1|B_m=1) &= \\frac{P(B_m=1|A=1)P(A=1)}{P(B_m=1|A=1)P(A=1) + P(B_m=1|B=1)P(B=1) + P(B_m=1|C=1)P(C=1)}\\\\\n",
    "    &= \\frac{1\\cdot\\frac{1}{3}}{1\\cdot\\frac{1}{3}+0\\cdot\\frac{1}{3}+1\\cdot\\frac{1}{3}}\\\\\n",
    "    &= \\frac{1}{2}.\n",
    "\\end{align*}\n",
    "Now,\n",
    "\\begin{align*}\n",
    "    P(A=1|C_m=1) &= \\frac{P(C_m=1|A=1)P(A=1)}{P(C_m=1|A=1)P(A=1)+P(C_m=1|B=1)P(B=1)+P(C_m=1|C=1)P(C=1)}\\\\\n",
    "    &= \\frac{0\\cdot\\frac{1}{3}}{0\\cdot\\frac{1}{3}+1\\cdot\\frac{1}{3}+0\\cdot\\frac{1}{3}}\\\\\n",
    "    &= 0.\n",
    "\\end{align*}"
   ]
  },
  {
   "cell_type": "markdown",
   "metadata": {},
   "source": [
    "### Problem 4 (25 Points)\n",
    "\n",
    "Suppose you have some kings. The kings are either tyrannical or benevolent in their behavior. Let B represent a random variable that represents the events { tyrannical, benevolent } . They also occasionally deposed by a revolution. Let D represent the Boolean random variable that deposed is true or false. Here's the joint count of observed events, out of 100 events:\n",
    "\n",
    "|                     | B=Tyrannical | B=Benevolent  |\n",
    "| :---:               | :---:        | :---:         |\n",
    "| Deposed D=True      |     22       |     22        |\n",
    "| Not Deposed D=False |     28       |     28        |\n",
    "\n",
    "So, as we can see, a king’s behavior doesn't have any influence about how long he reigns. But suppose we divide the kings up into charismatic and un charismatic as follows:\n",
    "\n",
    "#### Charismatic/Uncharishmatic\n",
    "|                     | Tyrannical   |   Benevolent  |\n",
    "| :---:               | :---:        | :---:         |\n",
    "| Deposed             |     16/6     |     2/20      |\n",
    "| Not Deposed         |     24/4     |     8/20      |\n"
   ]
  },
  {
   "cell_type": "markdown",
   "metadata": {},
   "source": [
    "a. Use the conditionalized product rule $ P(X,Y|E) = P(X|Y,E) P(Y|E) $ to compute the conditional probability of being deposed, given his behavior $ P(D|B,E)$ and charisma, where E is a Boolean random variable representing his charisma."
   ]
  },
  {
   "cell_type": "markdown",
   "metadata": {},
   "source": [
    "Let us convert the random variable $B$ in boolean where, $B=1$ represents 'Tyrannical' and $B=0$ represents 'Benevolent'.\n",
    "From the given tables, we can compute the following:\n",
    "\\begin{align*}\n",
    "    P(E=1) &= \\frac{16+24+2+8}{100} = 0.5\\\\\n",
    "    P(E=0) &= \\frac{6+4+20+20}{100} = 0.5\\\\\n",
    "    P(B=1,E=1) &= \\frac{16+24}{100} = 0.4\\\\\n",
    "    P(B=1,E=0) &= \\frac{6+4}{100} = 0.1\\\\\n",
    "    P(B=0,E=1) &= \\frac{2+8}{100} = 0.1\\\\\n",
    "    P(B=0,E=0) &= \\frac{20+20}{100} = 0.4\\\\\n",
    "    P(B=1|E=1) &= \\frac{P(B=1,E=1)}{P(E=1)} = \\frac{0.4}{0.5} = 0.8\\\\\n",
    "    P(B=1|E=0) &= \\frac{P(B=1,E=0)}{P(E=0)} = \\frac{0.1}{0.5} = 0.2\\\\\n",
    "    P(B=0|E=1) &= \\frac{P(B=0,E=1)}{P(E=1)} = \\frac{0.1}{0.5} = 0.2\\\\\n",
    "    P(B=0|E=0) &= \\frac{P(B=0,E=0)}{P(E=0)} = \\frac{0.4}{0.5} = 0.8\\\\\n",
    "    P(D=1,B=1,E=1) &= \\frac{16}{100} = 0.16\\\\\n",
    "    P(D=1,B=1,E=0) &= \\frac{6}{100} = 0.06\\\\\n",
    "    P(D=1,B=0,E=1) &= \\frac{2}{100} = 0.02\\\\\n",
    "    P(D=1,B=0,E=0) &= \\frac{20}{100} = 0.2\\\\\n",
    "    P(D=1,B=1|E=1) &= \\frac{P(D=1,B=1,E=1)}{P(E=1)} = \\frac{0.16}{0.5} = 0.32\\\\\n",
    "    P(D=1,B=1|E=0) &= \\frac{P(D=1,B=1,E=0)}{P(E=0)} = \\frac{0.06}{0.5} = 0.12\\\\\n",
    "    P(D=1,B=0|E=1) &= \\frac{P(D=1,B=0,E=1)}{P(E=1)} = \\frac{0.02}{0.5} = 0.04\\\\\n",
    "    P(D=1,B=0|E=0) &= \\frac{P(D=1,B=0,E=0)}{P(E=0)} = \\frac{0.2}{0.5} = 0.4.\n",
    "\\end{align*}\n",
    "Therefore,\n",
    "\\begin{align*}\n",
    "    P(D=1|B=1,E=1) &= \\frac{P(D=1,B=1|E=1)}{P(B=1|E=1)}\\\\\n",
    "    &= \\frac{0.32}{0.8}\\\\\n",
    "    &= 0.4,\n",
    "\\end{align*}\n",
    "and,\n",
    "\\begin{align*}\n",
    "    P(D=1|B=1, E=0) &= \\frac{P(D=1,B=1|E=0)}{P(B=1|E=0)}\\\\\n",
    "    &= \\frac{0.12}{0.2}\\\\\n",
    "    &= 0.6.\n",
    "\\end{align*}\n",
    "Also,\n",
    "\\begin{align*}\n",
    "    P(D=1|B=0,E=1) &= \\frac{P(D=1,B=0|E=1)}{P(B=0|E=1)}\\\\\n",
    "    &= \\frac{0.04}{0.2}\\\\\n",
    "    &= 0.2,\n",
    "\\end{align*}\n",
    "\\begin{align*}\n",
    "    P(D=1|B=0,E=0) &= \\frac{P(D=1,B=0|E=0)}{P(B=0|E=0)}\\\\\n",
    "    &= \\frac{0.4}{0.8}\\\\\n",
    "    &=0.5.\n",
    "\\end{align*}"
   ]
  },
  {
   "cell_type": "markdown",
   "metadata": {},
   "source": [
    "b. Here use the conditional form from a. to help the king make decisions (choice is benevolent or tyrannical). <br>\n",
    "i. If the king does not want to be deposed, should the king choose to be benevolent or tyrannical? Does it matter? <br>\n",
    "ii. Does his charisma affect the outcome of his choice? <br>\n",
    "iii. Does his charisma affect the outcome of his choice if the king does not know whether he is charismatic or not? \n",
    "\n",
    "Assume uncertainty about E means a prior probability of 0.5. Use Probability theory and the tables given to form your answer.\n",
    "\n",
    "(**Hint**: Condition on what you know, marginalize what you do not know)"
   ]
  },
  {
   "cell_type": "markdown",
   "metadata": {},
   "source": [
    "Note: The king's choice can be interpreted from either probability of getting deposed, or probability of not getting deposed. A high value of probability of not getting deposed is equivalent to a low value of probability of getting deposed.<br>\n",
    "i. $P(D=0|B=1)=\\frac{28}{22+28} = 0.56$ and $P(D=0|B=0) = \\frac{28}{22+28}=0.56$<br>\n",
    "Therefore, as the probabilities of not getting deposed given the king is tyrannical or benevolent are same, it does not matter whether the king chooses to be tyrannical or benevolent.<br>\n",
    "ii. His charisma affects the outcome of his choice as we can see from the probabilities $P(D=1|B=1,E=1), P(D=1|B=1,E=0), P(D=1|B=0,E=1)$ and $P(D=1|B=0,E=0)$ calculated in part (a).<br>\n",
    "We can see that probability of getting deposed, when the king is charismatic ($E=1$) is lowest when $B=0$. Therefore, if the king is charismatic, he should choose to be benevolent. If the king is not charismatic ($E=0$), then also he should choose to be benevolent as probability of getting deposed is lowest when $B=0$.<br>\n",
    "iii. Let us calculate the probabilities of getting deposed when the king does not know if he is charismatic or not.<br>\n",
    "First, let us calculate the following probabilities:\n",
    "\\begin{align*}\n",
    "    P(D=1,E=1) &= \\frac{18}{100} = 0.18\\\\\n",
    "    P(D=1,E=0) &= \\frac{26}{100} = 0.26\\\\\n",
    "    P(D=0,E=1) &= \\frac{32}{100} = 0.32\\\\\n",
    "    P(D=0,E=0) &= \\frac{24}{100} = 0.24\\\\\n",
    "    P(B=1|D=1,E=1) &= \\frac{P(B=1,D=1,E=1)}{P(D=1,E=1)} = \\frac{0.16}{0.18} = 0.89\\\\\n",
    "    P(B=1|D=1,E=0) &= \\frac{P(B=1,D=1,E=0)}{P(D=1,E=0)} = \\frac{0.06}{0.26} = 0.23\\\\\n",
    "    P(B=1|D=0,E=1) &= \\frac{P(B=1,D=0,E=1)}{P(D=0,E=1)} = \\frac{0.24}{0.32} = 0.75\\\\\n",
    "    P(B=1|D=0,E=0) &= \\frac{P(B=1,D=0,E=0)}{P(D=0,E=0)} = \\frac{0.04}{0.24} = 0.17\\\\\n",
    "    %%\n",
    "    P(B=0|D=1,E=1) &= \\frac{P(B=0,D=1,E=1)}{P(D=1,E=1)} = \\frac{0.02}{0.18} = 0.11\\\\\n",
    "    P(B=0|D=1,E=0) &= \\frac{P(B=0,D=1,E=0)}{P(D=1,E=0)} = \\frac{0.2}{0.26} = 0.77\\\\\n",
    "    P(B=0|D=0,E=1) &= \\frac{P(B=0,D=0,E=1)}{P(D=0,E=1)} = \\frac{0.08}{0.32} = 0.25\\\\\n",
    "    P(B=0|D=0,E=0) &= \\frac{P(B=0,D=0,E=0)}{P(D=0,E=0)} = \\frac{0.2}{0.24} = 0.83\\\\\n",
    "\\end{align*}\n",
    "Now,\n",
    "\\begin{align*}\n",
    "    P(D=1,E=1|B=1) &= \\frac{P(B=1|D=1,E=1)P(D=1,E=1)}{P(B=1|D=1,E=1)P(D=1,E=1)+P(B=1|D=1,E=0)P(D=1,E=0)+P(B=1|D=0,E=1)P(D=0,E=1)+P(B=1|D=0,E=0)P(D=0,E=0)}\\\\\n",
    "    &= \\frac{(0.89)(0.18)}{(0.89)(0.18)+(0.23)(0.26)+(0.75)(0.32)+(0.17)(0.24)}\\\\\n",
    "    &= \\frac{0.16}{0.16+0.06+0.24+0.04}\\\\\n",
    "    &= \\frac{0.16}{0.5}\\\\\n",
    "    &= 0.32.\n",
    "\\end{align*}\n",
    "Also,\n",
    "\\begin{align*}\n",
    "    P(D=1,E=0|B=1) &= \\frac{P(B=1|D=1,E=0)P(D=1,E=0)}{P(B=1|D=1,E=1)P(D=1,E=1)+P(B=1|D=1,E=0)P(D=1,E=0)+P(B=1|D=0,E=1)P(D=0,E=1)+P(B=1|D=0,E=0)P(D=0,E=0)}\\\\\n",
    "    &= \\frac{0.06}{0.5}\\\\\n",
    "    &= 0.12,\n",
    "\\end{align*}\n",
    "and,\n",
    "\\begin{align*}\n",
    "    P(D=1,E=1|B=0) &= \\frac{P(B=0|D=1,E=1)P(D=1,E=1)}{P(B=0|D=1,E=1)P(D=1,E=1)+P(B=0|D=1,E=0)P(D=1,E=0)+P(B=0|D=0,E=1)P(D=0,E=1)+P(B=0|D=0,E=0)P(D=0,E=0)}\\\\\n",
    "    &= \\frac{0.02}{0.02+0.2+0.08+0.2}\\\\\n",
    "    &= \\frac{0.02}{0.5}\\\\\n",
    "    &= 0.04.\n",
    "\\end{align*}\n",
    "Similarly,\n",
    "\\begin{align*}\n",
    "    P(D=1,E=0|B=0) &= \\frac{P(B=0|D=1,E=0)P(D=1,E=0)}{P(B=0|D=1,E=1)P(D=1,E=1)+P(B=0|D=1,E=0)P(D=1,E=0)+P(B=0|D=0,E=1)P(D=0,E=1)+P(B=0|D=0,E=0)P(D=0,E=0)}\\\\\n",
    "    &= \\frac{0.02}{0.02+0.2+0.08+0.2}\\\\\n",
    "    &= \\frac{0.2}{0.5}\\\\\n",
    "    &= 0.4.\n",
    "\\end{align*}\n",
    "<!-- So, if the king chooses to be tyrannical, then in worst case (if he is charismatic) he has $0.32$ probability that he will be deposed. On the other hand, if he chooses to be benevolent, in worst case (if he is uncharismatic) he has $0.4$ probability of getting deposed. Thus, if the king does not know if he is charismatic or not, it is better to be tyrannical so that worst case probability of getting deposed is lowest. -->\n",
    "\n",
    "Now, if the king does not know if he is charismatic, he would need to marginalize the above joint probability over all values of $E$. Therefore,\n",
    "\\begin{align*}\n",
    "    P(D=1|B=1) &= P(D=1,E=1|B=1) + P(D=1,E=0|B=1) = 0.44\\\\\n",
    "    P(D=1|B=0) &= P(D=1,E=1|B=0) + P(D=1,E=0|B=0) = 0.44.\n",
    "\\end{align*}\n",
    "As both the above probabilities are same, if the king does not know if he is charismatic, his charisma will not affect his outcome of choice to be tyrannical or benevolent."
   ]
  },
  {
   "cell_type": "markdown",
   "metadata": {},
   "source": [
    "## Programming + Written Problems"
   ]
  },
  {
   "cell_type": "markdown",
   "metadata": {},
   "source": [
    "### Problem 5 (20 Points)\n",
    "a). You are given a biased coin whose probability of giving Heads is p. You do not know what p is. How will you use this biased coin to simulate generation of samples from the equivalent to an unbiased coin whose probability of giving heads is 1 in 2? 1 in 3? The goal is to find a simple algorithm which can convert a sequence of tosses from a biased coin with an unknown bias into a sampler which returns unbiased samples of events with probability 0.5. Briefly explain your logic for both the cases.\n",
    "\n",
    "b). Write a python program which generates at least 10 unbiased samples of prob 1/2 for each of the biased coin flip probabilities [0.01, 0.1, 0.4]. Similarly, generate 10 unbiased samples of prob 1/3 for each of the biased coin flip probabilities [0.01, 0.1, 0.4].   \n",
    "\n",
    "(Hint: You may have to toss the biased coin multiple times to generate the equivalent of an unbiased ‘toss’. The code is simple so if you are writing too much of code, probably you are doing it wrong!)"
   ]
  },
  {
   "cell_type": "markdown",
   "metadata": {},
   "source": [
    "Let us denote the probability of giving tail by $q = (1-p)$. Now, consider the following probabilities of two consequtive coin toss:\n",
    "\\begin{align*}\n",
    "    P(HH) &= p^2\\\\\n",
    "    P(TT) &= q^2\\\\\n",
    "    P(HT) &= pq\\\\\n",
    "    P(TH) &= qp.\n",
    "\\end{align*}\n",
    "We can see that $P(HT)=P(TH)=pq$. Therefore, if we consider a new random variable $X$ which takes a value of $1$ when two consequtive toss of the biased coin result into HT and $X$ is $0$ when two consequtive toss of the biased coin result into TH, we see that P(X=1)=P(X=0). Now, to restrict $X$ to take only $0$ and $1$, so that we have $P(X=0)+P(X=1)=1$, we need to discard the outcomes of the two tosses of the biased coin which give HH or TT. Then, we can ensure, $P(X=1)=P(X=0)=\\frac{1}{2}$.<br>\n",
    "We can attribute $X=1$ event to be our simulated fair coin's head and $X=0$ to be our simulated fair coin's tail.<br>\n",
    "Mathematically, the probability of getting $X=1$ is:\n",
    "\\begin{align*}\n",
    "    P(X=1) &= P(HT) + (P(HH)+P(TT))P(HT) + (P(HH)+P(TT))^2P(HT) + \\cdots\\\\\n",
    "    &= pq + (p^2+q^2)pq + (p^2+q^2)^2pq + \\cdots\\\\\n",
    "    &= \\frac{pq}{1-p^2-q^2}\\\\\n",
    "    &= \\frac{pq}{1-(p+q)^2+2pq}\\\\\n",
    "    &= \\frac{pq}{1-1+2pq}\\\\\n",
    "    &= \\frac{1}{2}.\n",
    "\\end{align*}\n",
    "Similarly, we can prove that $P(X=0)=\\frac{1}{2}$.<br>\n",
    "Thus we can synthetically generates samples of fair coin using our biased coin having unknown probability of giving head.<br>\n",
    "Now, to simulate samples of a coin which gives head $1$ in $3$ times, we can use previously simulated fair coin. Let, $Z$ denote a random variable which takes a value of $1$ when two samples of the random variable $X$, denoted by the tuple $(X_1,X_2)$ takes value of $(1,1)$ and $Z=0$ when $(X_1,X_2) = (1,0)$ or $(0,1)$. Thus, $P(Z=1)=P(X_1=1)P(X_2=1)=\\frac{1}{4}$ and $P(Z=0)=P(X_1=1)P(X_2=0)+P(X_1=0)P(X_2=1) = \\frac{1}{4}+\\frac{1}{4} = \\frac{1}{2}$.<br>\n",
    "Therefore,\n",
    "\\begin{align*}\n",
    "    P(Z=1) &= P(X_1=1)P(X_2=1) + (P(X_1=0)P(X_2=0))P(X_1=1)P(X_2=1) + (P(X_1=0)P(X_2=0))^2P(X_1=1)P(X_2=1) + \\cdots\\\\\n",
    "    &= \\frac{1}{4} + \\left( \\frac{1}{4} \\right)\\frac{1}{4} + \\left( \\frac{1}{4} \\right)^2 \\frac{1}{4} + \\cdots\\\\\n",
    "    &= \\frac{\\frac{1}{4}}{1-\\frac{1}{4}}\\\\\n",
    "    &= \\frac{\\frac{1}{4}}{\\frac{3}{4}}\\\\\n",
    "    &= \\frac{1}{3}.\n",
    "\\end{align*}\n",
    "Thus, if we denote the event $Z=1$ as head of our simulated coin, the probability of getting head would be $\\frac{1}{3}$."
   ]
  },
  {
   "cell_type": "code",
   "execution_count": 1,
   "metadata": {},
   "outputs": [],
   "source": [
    "# CODE and result"
   ]
  },
  {
   "cell_type": "code",
   "execution_count": 7,
   "metadata": {},
   "outputs": [
    {
     "name": "stdout",
     "output_type": "stream",
     "text": [
      "########## 1. = Head, 0. = Tail ##########\n",
      "##########\n",
      "Actual coin probability of head =  0.01\n",
      "Simulated  10  fair coin samples =  [0. 1. 0. 1. 0. 1. 0. 0. 1. 1.]\n",
      "Simulated  10  biased coin samples with 1/3 head probability =  [1. 0. 1. 0. 1. 0. 0. 0. 1. 0.]\n",
      "##########\n",
      "Actual coin probability of head =  0.1\n",
      "Simulated  10  fair coin samples =  [0. 0. 1. 1. 0. 1. 0. 0. 1. 0.]\n",
      "Simulated  10  biased coin samples with 1/3 head probability =  [1. 0. 0. 0. 0. 0. 0. 1. 0. 1.]\n",
      "##########\n",
      "Actual coin probability of head =  0.4\n",
      "Simulated  10  fair coin samples =  [1. 0. 1. 0. 0. 1. 0. 1. 1. 0.]\n",
      "Simulated  10  biased coin samples with 1/3 head probability =  [0. 0. 0. 1. 0. 0. 1. 1. 0. 1.]\n"
     ]
    }
   ],
   "source": [
    "#######################################################################\n",
    "# IMPORTS\n",
    "#######################################################################\n",
    "import numpy as np\n",
    "#######################################################################\n",
    "# Function definition\n",
    "#######################################################################\n",
    "#######################################################################\n",
    "# Bias coin outcome simulator\n",
    "# 1 represents head, 0 represents tail\n",
    "#######################################################################\n",
    "def tossBiasedCoin(prob_head):\n",
    "    random_number = np.random.random()\n",
    "    if (random_number <= prob_head):\n",
    "        return 1.\n",
    "    else:\n",
    "        return 0.\n",
    "#######################################################################\n",
    "# Function to simulate fair coin from bias coin\n",
    "# 1 represents head, 0 represents tail\n",
    "#######################################################################\n",
    "def simulateFairCoin(prob_head):\n",
    "    #######################################################################\n",
    "    # Get two consecutive bias coin outcome\n",
    "    #######################################################################\n",
    "    fair_coin_outcome = None\n",
    "    while (None == fair_coin_outcome):\n",
    "        bias_outcome_1 = tossBiasedCoin(prob_head=prob_head)\n",
    "        bias_outcome_2 = tossBiasedCoin(prob_head=prob_head)\n",
    "        if ((1. == bias_outcome_1) and (0. == bias_outcome_2)):\n",
    "            fair_coin_outcome = 1.\n",
    "        if ((0. == bias_outcome_1) and (1. == bias_outcome_2)):\n",
    "            fair_coin_outcome = 0.\n",
    "    return fair_coin_outcome\n",
    "#######################################################################\n",
    "# Function to simulate bias coin from fair coin\n",
    "# 1 represents head, 0 represents tail\n",
    "#######################################################################\n",
    "def simulateBiasedCoin(actual_bias):\n",
    "    #######################################################################\n",
    "    # Get two consecutive bias coin outcome\n",
    "    #######################################################################\n",
    "    bias_coin_outcome = None\n",
    "    while (None == bias_coin_outcome):\n",
    "        fair_outcome_1 = simulateFairCoin(actual_bias)\n",
    "        fair_outcome_2 = simulateFairCoin(actual_bias)\n",
    "        if ((1. == fair_outcome_1) and (1. == fair_outcome_2)):\n",
    "            bias_coin_outcome = 1.\n",
    "        elif ((0. == fair_outcome_1) and (0. == fair_outcome_2)):\n",
    "            bias_coin_outcome = None\n",
    "        else:\n",
    "            bias_coin_outcome = 0.\n",
    "    return bias_coin_outcome\n",
    "#######################################################################\n",
    "# CODE STARTS HERE\n",
    "#######################################################################\n",
    "bias_prob_arr = [0.01, 0.1, 0.4]\n",
    "n_samples = 10\n",
    "fair_coin_samples = np.zeros((len(bias_prob_arr), n_samples))\n",
    "bias_coin_samples = np.zeros((len(bias_prob_arr), n_samples))\n",
    "np.random.seed(19)\n",
    "print('########## 1. = Head, 0. = Tail ##########')\n",
    "for prob_idx in range(len(bias_prob_arr)):\n",
    "    for sample_idx in range(n_samples):\n",
    "        fair_coin_samples[prob_idx, sample_idx] = simulateFairCoin(bias_prob_arr[prob_idx])\n",
    "        bias_coin_samples[prob_idx, sample_idx] = simulateBiasedCoin(bias_prob_arr[prob_idx])\n",
    "    #######################################################################\n",
    "    # console log\n",
    "    #######################################################################\n",
    "    print('##########')\n",
    "    print('Actual coin probability of head = ', bias_prob_arr[prob_idx])\n",
    "    print('Simulated ', n_samples, ' fair coin samples = ', fair_coin_samples[prob_idx, :])\n",
    "    print('Simulated ', n_samples, ' biased coin samples with 1/3 head probability = ', bias_coin_samples[prob_idx, :])"
   ]
  },
  {
   "cell_type": "code",
   "execution_count": null,
   "metadata": {},
   "outputs": [],
   "source": [
    "# End of script"
   ]
  }
 ],
 "metadata": {
  "kernelspec": {
   "display_name": "Python 3",
   "language": "python",
   "name": "python3"
  },
  "language_info": {
   "codemirror_mode": {
    "name": "ipython",
    "version": 3
   },
   "file_extension": ".py",
   "mimetype": "text/x-python",
   "name": "python",
   "nbconvert_exporter": "python",
   "pygments_lexer": "ipython3",
   "version": "3.8.1"
  }
 },
 "nbformat": 4,
 "nbformat_minor": 2
}
